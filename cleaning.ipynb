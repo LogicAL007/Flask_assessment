{
 "cells": [
  {
   "cell_type": "code",
   "execution_count": 4,
   "metadata": {},
   "outputs": [],
   "source": [
    "import pandas as pd \n",
    "import sqlite3\n",
    "import numpy as np"
   ]
  },
  {
   "cell_type": "code",
   "execution_count": 2,
   "metadata": {},
   "outputs": [],
   "source": [
    "df = pd.read_json(\"flipkart_fashion_products_dataset.json\")"
   ]
  },
  {
   "cell_type": "code",
   "execution_count": 18,
   "metadata": {},
   "outputs": [
    {
     "data": {
      "text/plain": [
       "Index(['_id', 'actual_price', 'average_rating', 'brand', 'category',\n",
       "       'crawled_at', 'description', 'discount', 'images', 'out_of_stock',\n",
       "       'pid', 'product_details', 'seller', 'selling_price', 'sub_category',\n",
       "       'title', 'url'],\n",
       "      dtype='object')"
      ]
     },
     "execution_count": 18,
     "metadata": {},
     "output_type": "execute_result"
    }
   ],
   "source": [
    "df.columns"
   ]
  },
  {
   "cell_type": "code",
   "execution_count": 8,
   "metadata": {},
   "outputs": [],
   "source": [
    "df = df.replace(\"\", np.nan)"
   ]
  },
  {
   "cell_type": "code",
   "execution_count": 9,
   "metadata": {},
   "outputs": [],
   "source": [
    "df = df.dropna()"
   ]
  },
  {
   "cell_type": "code",
   "execution_count": 10,
   "metadata": {},
   "outputs": [
    {
     "data": {
      "text/plain": [
       "(14549, 17)"
      ]
     },
     "execution_count": 10,
     "metadata": {},
     "output_type": "execute_result"
    }
   ],
   "source": [
    "df.shape"
   ]
  },
  {
   "cell_type": "code",
   "execution_count": 11,
   "metadata": {},
   "outputs": [],
   "source": [
    "df = df.rename(columns={'actual_price': 'previous_price'})\n",
    "df = df.rename(columns={'pid': 'id'})\n",
    "df = df.rename(columns={'title': 'product_name'})\n",
    "df = df.rename(columns={'out_of_stock': 'in_stock'})\n",
    "df = df.rename(columns={'images': 'product_picture'})\n",
    "df = df.rename(columns={'images': 'product_picture'})\n",
    "df = df.rename(columns={'crawled_at': 'date_added'})\n",
    "df = df.rename(columns={'selling_price': 'current_price'})"
   ]
  },
  {
   "cell_type": "code",
   "execution_count": 12,
   "metadata": {},
   "outputs": [
    {
     "data": {
      "text/html": [
       "<div>\n",
       "<style scoped>\n",
       "    .dataframe tbody tr th:only-of-type {\n",
       "        vertical-align: middle;\n",
       "    }\n",
       "\n",
       "    .dataframe tbody tr th {\n",
       "        vertical-align: top;\n",
       "    }\n",
       "\n",
       "    .dataframe thead th {\n",
       "        text-align: right;\n",
       "    }\n",
       "</style>\n",
       "<table border=\"1\" class=\"dataframe\">\n",
       "  <thead>\n",
       "    <tr style=\"text-align: right;\">\n",
       "      <th></th>\n",
       "      <th>_id</th>\n",
       "      <th>previous_price</th>\n",
       "      <th>average_rating</th>\n",
       "      <th>brand</th>\n",
       "      <th>category</th>\n",
       "      <th>date_added</th>\n",
       "      <th>description</th>\n",
       "      <th>discount</th>\n",
       "      <th>product_picture</th>\n",
       "      <th>in_stock</th>\n",
       "      <th>id</th>\n",
       "      <th>product_details</th>\n",
       "      <th>seller</th>\n",
       "      <th>current_price</th>\n",
       "      <th>sub_category</th>\n",
       "      <th>product_name</th>\n",
       "      <th>url</th>\n",
       "    </tr>\n",
       "  </thead>\n",
       "  <tbody>\n",
       "    <tr>\n",
       "      <th>0</th>\n",
       "      <td>fa8e22d6-c0b6-5229-bb9e-ad52eda39a0a</td>\n",
       "      <td>2,999</td>\n",
       "      <td>3.9</td>\n",
       "      <td>York</td>\n",
       "      <td>Clothing and Accessories</td>\n",
       "      <td>2021-02-10 20:11:51</td>\n",
       "      <td>Yorker trackpants made from 100% rich combed c...</td>\n",
       "      <td>69% off</td>\n",
       "      <td>[https://rukminim1.flixcart.com/image/128/128/...</td>\n",
       "      <td>False</td>\n",
       "      <td>TKPFCZ9EA7H5FYZH</td>\n",
       "      <td>[{'Style Code': '1005COMBO2'}, {'Closure': 'El...</td>\n",
       "      <td>Shyam Enterprises</td>\n",
       "      <td>921</td>\n",
       "      <td>Bottomwear</td>\n",
       "      <td>Solid Men Multicolor Track Pants</td>\n",
       "      <td>https://www.flipkart.com/yorker-solid-men-mult...</td>\n",
       "    </tr>\n",
       "  </tbody>\n",
       "</table>\n",
       "</div>"
      ],
      "text/plain": [
       "                                    _id previous_price average_rating brand  \\\n",
       "0  fa8e22d6-c0b6-5229-bb9e-ad52eda39a0a          2,999            3.9  York   \n",
       "\n",
       "                   category          date_added  \\\n",
       "0  Clothing and Accessories 2021-02-10 20:11:51   \n",
       "\n",
       "                                         description discount  \\\n",
       "0  Yorker trackpants made from 100% rich combed c...  69% off   \n",
       "\n",
       "                                     product_picture  in_stock  \\\n",
       "0  [https://rukminim1.flixcart.com/image/128/128/...     False   \n",
       "\n",
       "                 id                                    product_details  \\\n",
       "0  TKPFCZ9EA7H5FYZH  [{'Style Code': '1005COMBO2'}, {'Closure': 'El...   \n",
       "\n",
       "              seller current_price sub_category  \\\n",
       "0  Shyam Enterprises           921   Bottomwear   \n",
       "\n",
       "                       product_name  \\\n",
       "0  Solid Men Multicolor Track Pants   \n",
       "\n",
       "                                                 url  \n",
       "0  https://www.flipkart.com/yorker-solid-men-mult...  "
      ]
     },
     "execution_count": 12,
     "metadata": {},
     "output_type": "execute_result"
    }
   ],
   "source": [
    "df.head(1)"
   ]
  },
  {
   "cell_type": "code",
   "execution_count": 13,
   "metadata": {},
   "outputs": [
    {
     "data": {
      "text/plain": [
       "(14549, 17)"
      ]
     },
     "execution_count": 13,
     "metadata": {},
     "output_type": "execute_result"
    }
   ],
   "source": [
    "df.shape"
   ]
  },
  {
   "cell_type": "code",
   "execution_count": 14,
   "metadata": {},
   "outputs": [],
   "source": [
    "column = ['average_rating','_id','url', 'product_details', 'seller',  'sub_category','discount','brand', 'category'   ]\n",
    "df = df.drop(column, axis=1) "
   ]
  },
  {
   "cell_type": "code",
   "execution_count": 15,
   "metadata": {},
   "outputs": [],
   "source": [
    "df.columns\n",
    "for columns in ['product_picture']:  # replace with your actual column names\n",
    "    df[columns] = df[columns].astype(str)\n"
   ]
  },
  {
   "cell_type": "code",
   "execution_count": 16,
   "metadata": {},
   "outputs": [
    {
     "data": {
      "text/html": [
       "<div>\n",
       "<style scoped>\n",
       "    .dataframe tbody tr th:only-of-type {\n",
       "        vertical-align: middle;\n",
       "    }\n",
       "\n",
       "    .dataframe tbody tr th {\n",
       "        vertical-align: top;\n",
       "    }\n",
       "\n",
       "    .dataframe thead th {\n",
       "        text-align: right;\n",
       "    }\n",
       "</style>\n",
       "<table border=\"1\" class=\"dataframe\">\n",
       "  <thead>\n",
       "    <tr style=\"text-align: right;\">\n",
       "      <th></th>\n",
       "      <th>previous_price</th>\n",
       "      <th>date_added</th>\n",
       "      <th>description</th>\n",
       "      <th>product_picture</th>\n",
       "      <th>in_stock</th>\n",
       "      <th>id</th>\n",
       "      <th>current_price</th>\n",
       "      <th>product_name</th>\n",
       "    </tr>\n",
       "  </thead>\n",
       "  <tbody>\n",
       "    <tr>\n",
       "      <th>0</th>\n",
       "      <td>2,999</td>\n",
       "      <td>2021-02-10 20:11:51</td>\n",
       "      <td>Yorker trackpants made from 100% rich combed c...</td>\n",
       "      <td>['https://rukminim1.flixcart.com/image/128/128...</td>\n",
       "      <td>False</td>\n",
       "      <td>TKPFCZ9EA7H5FYZH</td>\n",
       "      <td>921</td>\n",
       "      <td>Solid Men Multicolor Track Pants</td>\n",
       "    </tr>\n",
       "    <tr>\n",
       "      <th>1</th>\n",
       "      <td>1,499</td>\n",
       "      <td>2021-02-10 20:11:52</td>\n",
       "      <td>Yorker trackpants made from 100% rich combed c...</td>\n",
       "      <td>['https://rukminim1.flixcart.com/image/128/128...</td>\n",
       "      <td>False</td>\n",
       "      <td>TKPFCZ9EJZV2UVRZ</td>\n",
       "      <td>499</td>\n",
       "      <td>Solid Men Blue Track Pants</td>\n",
       "    </tr>\n",
       "    <tr>\n",
       "      <th>2</th>\n",
       "      <td>2,999</td>\n",
       "      <td>2021-02-10 20:11:52</td>\n",
       "      <td>Yorker trackpants made from 100% rich combed c...</td>\n",
       "      <td>['https://rukminim1.flixcart.com/image/128/128...</td>\n",
       "      <td>False</td>\n",
       "      <td>TKPFCZ9EHFCY5Z4Y</td>\n",
       "      <td>931</td>\n",
       "      <td>Solid Men Multicolor Track Pants</td>\n",
       "    </tr>\n",
       "    <tr>\n",
       "      <th>3</th>\n",
       "      <td>2,999</td>\n",
       "      <td>2021-02-10 20:11:53</td>\n",
       "      <td>Yorker trackpants made from 100% rich combed c...</td>\n",
       "      <td>['https://rukminim1.flixcart.com/image/128/128...</td>\n",
       "      <td>False</td>\n",
       "      <td>TKPFCZ9ESZZ7YWEF</td>\n",
       "      <td>911</td>\n",
       "      <td>Solid Men Multicolor Track Pants</td>\n",
       "    </tr>\n",
       "    <tr>\n",
       "      <th>4</th>\n",
       "      <td>2,999</td>\n",
       "      <td>2021-02-10 20:11:53</td>\n",
       "      <td>Yorker trackpants made from 100% rich combed c...</td>\n",
       "      <td>['https://rukminim1.flixcart.com/image/128/128...</td>\n",
       "      <td>False</td>\n",
       "      <td>TKPFCZ9EVXKBSUD7</td>\n",
       "      <td>943</td>\n",
       "      <td>Solid Men Brown, Grey Track Pants</td>\n",
       "    </tr>\n",
       "    <tr>\n",
       "      <th>...</th>\n",
       "      <td>...</td>\n",
       "      <td>...</td>\n",
       "      <td>...</td>\n",
       "      <td>...</td>\n",
       "      <td>...</td>\n",
       "      <td>...</td>\n",
       "      <td>...</td>\n",
       "      <td>...</td>\n",
       "    </tr>\n",
       "    <tr>\n",
       "      <th>29985</th>\n",
       "      <td>2,999</td>\n",
       "      <td>2021-02-11 01:31:49</td>\n",
       "      <td>‘OKANE’ endeavors to continue to be a leader i...</td>\n",
       "      <td>['https://rukminim1.flixcart.com/image/128/128...</td>\n",
       "      <td>False</td>\n",
       "      <td>JCKFX4VDGNUHGFUN</td>\n",
       "      <td>1,800</td>\n",
       "      <td>Full Sleeve Solid Men Jacket</td>\n",
       "    </tr>\n",
       "    <tr>\n",
       "      <th>29989</th>\n",
       "      <td>999</td>\n",
       "      <td>2021-02-11 01:31:51</td>\n",
       "      <td>OKANE endeavors to continue to be a leader in ...</td>\n",
       "      <td>['https://rukminim1.flixcart.com/image/128/128...</td>\n",
       "      <td>False</td>\n",
       "      <td>SRTFPUM5C2RJRZJR</td>\n",
       "      <td>500</td>\n",
       "      <td>Striped Men Black Basic Shorts</td>\n",
       "    </tr>\n",
       "    <tr>\n",
       "      <th>29990</th>\n",
       "      <td>999</td>\n",
       "      <td>2021-02-11 01:31:51</td>\n",
       "      <td>‘OKANE’ endeavors to continue to be a leader i...</td>\n",
       "      <td>['https://rukminim1.flixcart.com/image/128/128...</td>\n",
       "      <td>False</td>\n",
       "      <td>SRTFTD8JGQDAQ5AF</td>\n",
       "      <td>500</td>\n",
       "      <td>Solid Men Grey Bermuda Shorts</td>\n",
       "    </tr>\n",
       "    <tr>\n",
       "      <th>29991</th>\n",
       "      <td>999</td>\n",
       "      <td>2021-02-11 01:31:52</td>\n",
       "      <td>‘OKANE’ endeavors to continue to be a leader i...</td>\n",
       "      <td>['https://rukminim1.flixcart.com/image/128/128...</td>\n",
       "      <td>False</td>\n",
       "      <td>SRTFTD8JWG6DPXKZ</td>\n",
       "      <td>500</td>\n",
       "      <td>Solid Men Grey Bermuda Shorts</td>\n",
       "    </tr>\n",
       "    <tr>\n",
       "      <th>29992</th>\n",
       "      <td>799</td>\n",
       "      <td>2021-02-11 01:31:52</td>\n",
       "      <td>‘OKANE’ endeavors to continue to be a leader i...</td>\n",
       "      <td>['https://rukminim1.flixcart.com/image/128/128...</td>\n",
       "      <td>False</td>\n",
       "      <td>SRTFJ7PNS8Y6XMSY</td>\n",
       "      <td>400</td>\n",
       "      <td>Solid Men Black Night Shorts</td>\n",
       "    </tr>\n",
       "  </tbody>\n",
       "</table>\n",
       "<p>14549 rows × 8 columns</p>\n",
       "</div>"
      ],
      "text/plain": [
       "      previous_price          date_added  \\\n",
       "0              2,999 2021-02-10 20:11:51   \n",
       "1              1,499 2021-02-10 20:11:52   \n",
       "2              2,999 2021-02-10 20:11:52   \n",
       "3              2,999 2021-02-10 20:11:53   \n",
       "4              2,999 2021-02-10 20:11:53   \n",
       "...              ...                 ...   \n",
       "29985          2,999 2021-02-11 01:31:49   \n",
       "29989            999 2021-02-11 01:31:51   \n",
       "29990            999 2021-02-11 01:31:51   \n",
       "29991            999 2021-02-11 01:31:52   \n",
       "29992            799 2021-02-11 01:31:52   \n",
       "\n",
       "                                             description  \\\n",
       "0      Yorker trackpants made from 100% rich combed c...   \n",
       "1      Yorker trackpants made from 100% rich combed c...   \n",
       "2      Yorker trackpants made from 100% rich combed c...   \n",
       "3      Yorker trackpants made from 100% rich combed c...   \n",
       "4      Yorker trackpants made from 100% rich combed c...   \n",
       "...                                                  ...   \n",
       "29985  ‘OKANE’ endeavors to continue to be a leader i...   \n",
       "29989  OKANE endeavors to continue to be a leader in ...   \n",
       "29990  ‘OKANE’ endeavors to continue to be a leader i...   \n",
       "29991  ‘OKANE’ endeavors to continue to be a leader i...   \n",
       "29992  ‘OKANE’ endeavors to continue to be a leader i...   \n",
       "\n",
       "                                         product_picture  in_stock  \\\n",
       "0      ['https://rukminim1.flixcart.com/image/128/128...     False   \n",
       "1      ['https://rukminim1.flixcart.com/image/128/128...     False   \n",
       "2      ['https://rukminim1.flixcart.com/image/128/128...     False   \n",
       "3      ['https://rukminim1.flixcart.com/image/128/128...     False   \n",
       "4      ['https://rukminim1.flixcart.com/image/128/128...     False   \n",
       "...                                                  ...       ...   \n",
       "29985  ['https://rukminim1.flixcart.com/image/128/128...     False   \n",
       "29989  ['https://rukminim1.flixcart.com/image/128/128...     False   \n",
       "29990  ['https://rukminim1.flixcart.com/image/128/128...     False   \n",
       "29991  ['https://rukminim1.flixcart.com/image/128/128...     False   \n",
       "29992  ['https://rukminim1.flixcart.com/image/128/128...     False   \n",
       "\n",
       "                     id current_price                       product_name  \n",
       "0      TKPFCZ9EA7H5FYZH           921   Solid Men Multicolor Track Pants  \n",
       "1      TKPFCZ9EJZV2UVRZ           499         Solid Men Blue Track Pants  \n",
       "2      TKPFCZ9EHFCY5Z4Y           931   Solid Men Multicolor Track Pants  \n",
       "3      TKPFCZ9ESZZ7YWEF           911   Solid Men Multicolor Track Pants  \n",
       "4      TKPFCZ9EVXKBSUD7           943  Solid Men Brown, Grey Track Pants  \n",
       "...                 ...           ...                                ...  \n",
       "29985  JCKFX4VDGNUHGFUN         1,800       Full Sleeve Solid Men Jacket  \n",
       "29989  SRTFPUM5C2RJRZJR           500     Striped Men Black Basic Shorts  \n",
       "29990  SRTFTD8JGQDAQ5AF           500      Solid Men Grey Bermuda Shorts  \n",
       "29991  SRTFTD8JWG6DPXKZ           500      Solid Men Grey Bermuda Shorts  \n",
       "29992  SRTFJ7PNS8Y6XMSY           400       Solid Men Black Night Shorts  \n",
       "\n",
       "[14549 rows x 8 columns]"
      ]
     },
     "execution_count": 16,
     "metadata": {},
     "output_type": "execute_result"
    }
   ],
   "source": [
    "df.dropna(subset=['product_name'])"
   ]
  },
  {
   "cell_type": "code",
   "execution_count": 17,
   "metadata": {},
   "outputs": [
    {
     "data": {
      "text/plain": [
       "(14549, 8)"
      ]
     },
     "execution_count": 17,
     "metadata": {},
     "output_type": "execute_result"
    }
   ],
   "source": [
    "df.shape"
   ]
  },
  {
   "cell_type": "code",
   "execution_count": 18,
   "metadata": {},
   "outputs": [
    {
     "data": {
      "text/html": [
       "<div>\n",
       "<style scoped>\n",
       "    .dataframe tbody tr th:only-of-type {\n",
       "        vertical-align: middle;\n",
       "    }\n",
       "\n",
       "    .dataframe tbody tr th {\n",
       "        vertical-align: top;\n",
       "    }\n",
       "\n",
       "    .dataframe thead th {\n",
       "        text-align: right;\n",
       "    }\n",
       "</style>\n",
       "<table border=\"1\" class=\"dataframe\">\n",
       "  <thead>\n",
       "    <tr style=\"text-align: right;\">\n",
       "      <th></th>\n",
       "      <th>previous_price</th>\n",
       "      <th>date_added</th>\n",
       "      <th>description</th>\n",
       "      <th>product_picture</th>\n",
       "      <th>in_stock</th>\n",
       "      <th>id</th>\n",
       "      <th>current_price</th>\n",
       "      <th>product_name</th>\n",
       "    </tr>\n",
       "  </thead>\n",
       "  <tbody>\n",
       "    <tr>\n",
       "      <th>0</th>\n",
       "      <td>2,999</td>\n",
       "      <td>2021-02-10 20:11:51</td>\n",
       "      <td>Yorker trackpants made from 100% rich combed c...</td>\n",
       "      <td>['https://rukminim1.flixcart.com/image/128/128...</td>\n",
       "      <td>False</td>\n",
       "      <td>TKPFCZ9EA7H5FYZH</td>\n",
       "      <td>921</td>\n",
       "      <td>Solid Men Multicolor Track Pants</td>\n",
       "    </tr>\n",
       "    <tr>\n",
       "      <th>1</th>\n",
       "      <td>1,499</td>\n",
       "      <td>2021-02-10 20:11:52</td>\n",
       "      <td>Yorker trackpants made from 100% rich combed c...</td>\n",
       "      <td>['https://rukminim1.flixcart.com/image/128/128...</td>\n",
       "      <td>False</td>\n",
       "      <td>TKPFCZ9EJZV2UVRZ</td>\n",
       "      <td>499</td>\n",
       "      <td>Solid Men Blue Track Pants</td>\n",
       "    </tr>\n",
       "    <tr>\n",
       "      <th>2</th>\n",
       "      <td>2,999</td>\n",
       "      <td>2021-02-10 20:11:52</td>\n",
       "      <td>Yorker trackpants made from 100% rich combed c...</td>\n",
       "      <td>['https://rukminim1.flixcart.com/image/128/128...</td>\n",
       "      <td>False</td>\n",
       "      <td>TKPFCZ9EHFCY5Z4Y</td>\n",
       "      <td>931</td>\n",
       "      <td>Solid Men Multicolor Track Pants</td>\n",
       "    </tr>\n",
       "    <tr>\n",
       "      <th>3</th>\n",
       "      <td>2,999</td>\n",
       "      <td>2021-02-10 20:11:53</td>\n",
       "      <td>Yorker trackpants made from 100% rich combed c...</td>\n",
       "      <td>['https://rukminim1.flixcart.com/image/128/128...</td>\n",
       "      <td>False</td>\n",
       "      <td>TKPFCZ9ESZZ7YWEF</td>\n",
       "      <td>911</td>\n",
       "      <td>Solid Men Multicolor Track Pants</td>\n",
       "    </tr>\n",
       "    <tr>\n",
       "      <th>4</th>\n",
       "      <td>2,999</td>\n",
       "      <td>2021-02-10 20:11:53</td>\n",
       "      <td>Yorker trackpants made from 100% rich combed c...</td>\n",
       "      <td>['https://rukminim1.flixcart.com/image/128/128...</td>\n",
       "      <td>False</td>\n",
       "      <td>TKPFCZ9EVXKBSUD7</td>\n",
       "      <td>943</td>\n",
       "      <td>Solid Men Brown, Grey Track Pants</td>\n",
       "    </tr>\n",
       "    <tr>\n",
       "      <th>5</th>\n",
       "      <td>4,499</td>\n",
       "      <td>2021-02-10 20:11:54</td>\n",
       "      <td>Yorker trackpants made from 100% rich combed c...</td>\n",
       "      <td>['https://rukminim1.flixcart.com/image/128/128...</td>\n",
       "      <td>False</td>\n",
       "      <td>TKPFCZ9EFK9DNWDA</td>\n",
       "      <td>1,169</td>\n",
       "      <td>Solid Men Multicolor Track Pants</td>\n",
       "    </tr>\n",
       "    <tr>\n",
       "      <th>6</th>\n",
       "      <td>1,499</td>\n",
       "      <td>2021-02-10 20:11:54</td>\n",
       "      <td>Yorker trackpants made from 100% rich combed c...</td>\n",
       "      <td>['https://rukminim1.flixcart.com/image/128/128...</td>\n",
       "      <td>False</td>\n",
       "      <td>TKPFDABN3GXYPFHE</td>\n",
       "      <td>466</td>\n",
       "      <td>Solid Men Dark Blue Track Pants</td>\n",
       "    </tr>\n",
       "    <tr>\n",
       "      <th>7</th>\n",
       "      <td>1,499</td>\n",
       "      <td>2021-02-10 20:11:55</td>\n",
       "      <td>Yorker trackpants made from 100% rich combed c...</td>\n",
       "      <td>['https://rukminim1.flixcart.com/image/128/128...</td>\n",
       "      <td>False</td>\n",
       "      <td>TKPFCZ9ESGZYT8NH</td>\n",
       "      <td>545</td>\n",
       "      <td>Solid Men Beige Track Pants</td>\n",
       "    </tr>\n",
       "    <tr>\n",
       "      <th>8</th>\n",
       "      <td>1,499</td>\n",
       "      <td>2021-02-10 20:11:55</td>\n",
       "      <td>Yorker trackpants made from 100% rich combed c...</td>\n",
       "      <td>['https://rukminim1.flixcart.com/image/128/128...</td>\n",
       "      <td>False</td>\n",
       "      <td>TKPFCZ9DYU33FFXS</td>\n",
       "      <td>489</td>\n",
       "      <td>Solid Men Black Track Pants</td>\n",
       "    </tr>\n",
       "    <tr>\n",
       "      <th>9</th>\n",
       "      <td>1,499</td>\n",
       "      <td>2021-02-10 20:11:56</td>\n",
       "      <td>Yorker trackpants made from 100% rich combed c...</td>\n",
       "      <td>['https://rukminim1.flixcart.com/image/128/128...</td>\n",
       "      <td>False</td>\n",
       "      <td>TKPFDABN4NQFVKZY</td>\n",
       "      <td>531</td>\n",
       "      <td>Solid Men Grey Track Pants</td>\n",
       "    </tr>\n",
       "  </tbody>\n",
       "</table>\n",
       "</div>"
      ],
      "text/plain": [
       "  previous_price          date_added  \\\n",
       "0          2,999 2021-02-10 20:11:51   \n",
       "1          1,499 2021-02-10 20:11:52   \n",
       "2          2,999 2021-02-10 20:11:52   \n",
       "3          2,999 2021-02-10 20:11:53   \n",
       "4          2,999 2021-02-10 20:11:53   \n",
       "5          4,499 2021-02-10 20:11:54   \n",
       "6          1,499 2021-02-10 20:11:54   \n",
       "7          1,499 2021-02-10 20:11:55   \n",
       "8          1,499 2021-02-10 20:11:55   \n",
       "9          1,499 2021-02-10 20:11:56   \n",
       "\n",
       "                                         description  \\\n",
       "0  Yorker trackpants made from 100% rich combed c...   \n",
       "1  Yorker trackpants made from 100% rich combed c...   \n",
       "2  Yorker trackpants made from 100% rich combed c...   \n",
       "3  Yorker trackpants made from 100% rich combed c...   \n",
       "4  Yorker trackpants made from 100% rich combed c...   \n",
       "5  Yorker trackpants made from 100% rich combed c...   \n",
       "6  Yorker trackpants made from 100% rich combed c...   \n",
       "7  Yorker trackpants made from 100% rich combed c...   \n",
       "8  Yorker trackpants made from 100% rich combed c...   \n",
       "9  Yorker trackpants made from 100% rich combed c...   \n",
       "\n",
       "                                     product_picture  in_stock  \\\n",
       "0  ['https://rukminim1.flixcart.com/image/128/128...     False   \n",
       "1  ['https://rukminim1.flixcart.com/image/128/128...     False   \n",
       "2  ['https://rukminim1.flixcart.com/image/128/128...     False   \n",
       "3  ['https://rukminim1.flixcart.com/image/128/128...     False   \n",
       "4  ['https://rukminim1.flixcart.com/image/128/128...     False   \n",
       "5  ['https://rukminim1.flixcart.com/image/128/128...     False   \n",
       "6  ['https://rukminim1.flixcart.com/image/128/128...     False   \n",
       "7  ['https://rukminim1.flixcart.com/image/128/128...     False   \n",
       "8  ['https://rukminim1.flixcart.com/image/128/128...     False   \n",
       "9  ['https://rukminim1.flixcart.com/image/128/128...     False   \n",
       "\n",
       "                 id current_price                       product_name  \n",
       "0  TKPFCZ9EA7H5FYZH           921   Solid Men Multicolor Track Pants  \n",
       "1  TKPFCZ9EJZV2UVRZ           499         Solid Men Blue Track Pants  \n",
       "2  TKPFCZ9EHFCY5Z4Y           931   Solid Men Multicolor Track Pants  \n",
       "3  TKPFCZ9ESZZ7YWEF           911   Solid Men Multicolor Track Pants  \n",
       "4  TKPFCZ9EVXKBSUD7           943  Solid Men Brown, Grey Track Pants  \n",
       "5  TKPFCZ9EFK9DNWDA         1,169   Solid Men Multicolor Track Pants  \n",
       "6  TKPFDABN3GXYPFHE           466    Solid Men Dark Blue Track Pants  \n",
       "7  TKPFCZ9ESGZYT8NH           545        Solid Men Beige Track Pants  \n",
       "8  TKPFCZ9DYU33FFXS           489        Solid Men Black Track Pants  \n",
       "9  TKPFDABN4NQFVKZY           531         Solid Men Grey Track Pants  "
      ]
     },
     "execution_count": 18,
     "metadata": {},
     "output_type": "execute_result"
    }
   ],
   "source": [
    "df.head(10)"
   ]
  },
  {
   "cell_type": "code",
   "execution_count": 27,
   "metadata": {},
   "outputs": [],
   "source": [
    "connection = sqlite3.connect('ecommerce.db')\n",
    "cursor = connection.cursor()\n",
    "cursor.execute(\"DROP TABLE IF EXISTS Product\")\n",
    "connection.commit()"
   ]
  },
  {
   "cell_type": "code",
   "execution_count": 28,
   "metadata": {},
   "outputs": [
    {
     "data": {
      "text/plain": [
       "14549"
      ]
     },
     "execution_count": 28,
     "metadata": {},
     "output_type": "execute_result"
    }
   ],
   "source": [
    "\n",
    "\n",
    "df.to_sql('Product', connection, if_exists='append')"
   ]
  },
  {
   "cell_type": "code",
   "execution_count": 16,
   "metadata": {},
   "outputs": [
    {
     "data": {
      "text/plain": [
       "<sqlite3.Cursor at 0x7ff632b3e140>"
      ]
     },
     "execution_count": 16,
     "metadata": {},
     "output_type": "execute_result"
    }
   ],
   "source": [
    "# connection = sqlite3.connect('.db')\n",
    "# connection.execute('PRAGMA busy_timeout = 30000')  # Set timeout to 30000 milliseconds\n"
   ]
  }
 ],
 "metadata": {
  "kernelspec": {
   "display_name": "Python 3",
   "language": "python",
   "name": "python3"
  },
  "language_info": {
   "codemirror_mode": {
    "name": "ipython",
    "version": 3
   },
   "file_extension": ".py",
   "mimetype": "text/x-python",
   "name": "python",
   "nbconvert_exporter": "python",
   "pygments_lexer": "ipython3",
   "version": "3.10.12"
  }
 },
 "nbformat": 4,
 "nbformat_minor": 2
}
